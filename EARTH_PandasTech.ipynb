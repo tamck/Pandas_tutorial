{
 "cells": [
  {
   "cell_type": "markdown",
   "metadata": {
    "colab_type": "text",
    "id": "4_qVLIz0j36s",
    "slideshow": {
     "slide_type": "slide"
    }
   },
   "source": [
    "# From Excel to Python: Using Pandas for Data Analysis\n",
    "\n",
    "## Trista McKenzie \n",
    "\n",
    "### Dept. of Earth Sciences Tech Seminar\n",
    "\n",
    "### October 28, 2019\n"
   ]
  },
  {
   "cell_type": "markdown",
   "metadata": {
    "colab_type": "text",
    "id": "Xhp7m8FYnT18",
    "slideshow": {
     "slide_type": "slide"
    }
   },
   "source": [
    "## Why use Python Pandas over Microsoft Excel?\n",
    "- Faster\n",
    "- Less prone to human/software error\n",
    "- Free\n",
    "- More complicated analyses are easy to do"
   ]
  },
  {
   "cell_type": "markdown",
   "metadata": {
    "colab_type": "text",
    "id": "GBMjkdOioSX6",
    "slideshow": {
     "slide_type": "slide"
    }
   },
   "source": [
    "## Quick Python Tutorial\n",
    "\n",
    "#### Installation & Running Python:\n",
    "- [Anaconda Navigator](https://www.anaconda.com/)\n",
    "- [Google Colaboratory (Colab)](https://colab.research.google.com)\n",
    "\n",
    "#### Python's Library (HUGE!)\n",
    "- composed of *packages*\n",
    "- Pandas is an example of a Python package\n",
    "\n"
   ]
  },
  {
   "cell_type": "markdown",
   "metadata": {
    "colab_type": "text",
    "id": "FH0emVFPkB3q",
    "slideshow": {
     "slide_type": "slide"
    }
   },
   "source": [
    "## Importing packages into Python\n",
    "\n",
    "Packages need to be imported - let's open Google Colab and do this now\n",
    "\n"
   ]
  },
  {
   "cell_type": "code",
   "execution_count": 0,
   "metadata": {
    "colab": {},
    "colab_type": "code",
    "id": "FBrtZOjKc2Fk",
    "slideshow": {
     "slide_type": "fragment"
    }
   },
   "outputs": [],
   "source": [
    "import pandas as pd"
   ]
  },
  {
   "cell_type": "markdown",
   "metadata": {
    "colab_type": "text",
    "id": "hwbS2SSKrIEW",
    "slideshow": {
     "slide_type": "slide"
    }
   },
   "source": [
    "## What is Pandas?\n",
    "\n",
    "Pandas = Python Data Analysis Library\n",
    "\n",
    "Data Structures:\n",
    "\n",
    "- [Series](https://pandas.pydata.org/pandas-docs/stable/reference/api/pandas.Series.html): like a single column or row in Excel\n",
    "- [Data Frames](https://pandas.pydata.org/pandas-docs/stable/reference/frame.html): like the entire spreadsheet\n",
    "\n",
    "\n",
    "\n",
    "\n"
   ]
  },
  {
   "cell_type": "code",
   "execution_count": 0,
   "metadata": {
    "colab": {
     "base_uri": "https://localhost:8080/",
     "height": 85
    },
    "colab_type": "code",
    "id": "d91fVbRmjy37",
    "outputId": "3f8911b2-263b-47b1-e7a2-44e29dca8d82",
    "slideshow": {
     "slide_type": "slide"
    }
   },
   "outputs": [
    {
     "name": "stdout",
     "output_type": "stream",
     "text": [
      "0    1\n",
      "1    2\n",
      "2    3\n",
      "dtype: int64\n"
     ]
    }
   ],
   "source": [
    "# creating a Series\n",
    "\n",
    "s1 = (1, 2, 3)\n",
    "s2 = (3, 4, 5)\n",
    "\n",
    "series = pd.Series(s1)\n",
    "\n",
    "print(series)"
   ]
  },
  {
   "cell_type": "code",
   "execution_count": 0,
   "metadata": {
    "colab": {
     "base_uri": "https://localhost:8080/",
     "height": 68
    },
    "colab_type": "code",
    "id": "cQ_NF-I1W93L",
    "outputId": "8da38ea7-312e-4acb-f7ba-8e4c6c5ba974",
    "slideshow": {
     "slide_type": "slide"
    }
   },
   "outputs": [
    {
     "name": "stdout",
     "output_type": "stream",
     "text": [
      "   0  1  2\n",
      "0  1  2  3\n",
      "1  3  4  5\n"
     ]
    }
   ],
   "source": [
    "# creating a DataFrame\n",
    "\n",
    "df = pd.DataFrame([s1,s2])\n",
    "\n",
    "print(df)"
   ]
  },
  {
   "cell_type": "markdown",
   "metadata": {
    "colab_type": "text",
    "id": "dlkhzDHixZ9K",
    "slideshow": {
     "slide_type": "slide"
    }
   },
   "source": [
    "## Pandas Data Types\n",
    "\n",
    "<table style=\"width:90%\">\n",
    "  <tr>\n",
    "    <th>Data Type</th>\n",
    "    <th>Description</th>\n",
    "  </tr>\n",
    "  <tr>\n",
    "    <td>object</td>\n",
    "    <td>strings (letters)</td>\n",
    "  </tr>\n",
    "  <tr>\n",
    "    <td>int64</td>\n",
    "    <td>integers</td>\n",
    "  </tr>\n",
    "    <tr>\n",
    "    <td>float64</td>\n",
    "    <td>floats (numbers with decimal points)</td>\n",
    "  </tr>\n",
    "    <tr>\n",
    "    <td>bool</td>\n",
    "    <td>Boolean (true/false)</td>\n",
    "  </tr>\n",
    "    <tr>\n",
    "    <td>datetime64</td>\n",
    "    <td>Date and Time</td>\n",
    "  </tr>\n",
    "</table>\n",
    "\n",
    "  \n"
   ]
  },
  {
   "cell_type": "code",
   "execution_count": 0,
   "metadata": {
    "colab": {
     "base_uri": "https://localhost:8080/",
     "height": 85
    },
    "colab_type": "code",
    "id": "FFW66juvZ1r8",
    "outputId": "9ed8ae2b-e844-4075-9c80-bd2b94e6b137",
    "slideshow": {
     "slide_type": "slide"
    }
   },
   "outputs": [
    {
     "data": {
      "text/plain": [
       "0    int64\n",
       "1    int64\n",
       "2    int64\n",
       "dtype: object"
      ]
     },
     "execution_count": 21,
     "metadata": {
      "tags": []
     },
     "output_type": "execute_result"
    }
   ],
   "source": [
    "# data types\n",
    "\n",
    "df.dtypes\n"
   ]
  },
  {
   "cell_type": "code",
   "execution_count": 0,
   "metadata": {
    "colab": {
     "base_uri": "https://localhost:8080/",
     "height": 68
    },
    "colab_type": "code",
    "id": "cYoxpefNab6-",
    "outputId": "18fc6356-2a57-4a57-a182-b78748ac666b",
    "slideshow": {
     "slide_type": "slide"
    }
   },
   "outputs": [
    {
     "name": "stdout",
     "output_type": "stream",
     "text": [
      "   0  1  2\n",
      "0  a  b  c\n",
      "1  7  8  9\n"
     ]
    }
   ],
   "source": [
    "# creating another DataFrame with strings and integers\n",
    "\n",
    "s3 = ('a', 'b', 'c')\n",
    "s4 = (7, 8, 9)\n",
    "\n",
    "df2 = pd.DataFrame([s3,s4])\n",
    "\n",
    "print(df2)"
   ]
  },
  {
   "cell_type": "code",
   "execution_count": 0,
   "metadata": {
    "colab": {
     "base_uri": "https://localhost:8080/",
     "height": 85
    },
    "colab_type": "code",
    "id": "G7FkuXsVbF_-",
    "outputId": "bb7b70bc-083f-48a2-a806-8df93e7564d7",
    "slideshow": {
     "slide_type": "slide"
    }
   },
   "outputs": [
    {
     "data": {
      "text/plain": [
       "0    object\n",
       "1    object\n",
       "2    object\n",
       "dtype: object"
      ]
     },
     "execution_count": 24,
     "metadata": {
      "tags": []
     },
     "output_type": "execute_result"
    }
   ],
   "source": [
    "df2.dtypes"
   ]
  },
  {
   "cell_type": "markdown",
   "metadata": {
    "colab_type": "text",
    "id": "H_G6ego8YcdZ",
    "slideshow": {
     "slide_type": "slide"
    }
   },
   "source": [
    "## Loading and Saving External Files\n",
    "\n",
    "\n",
    "**[Loading an Excel file](https://pandas.pydata.org/pandas-docs/stable/reference/api/pandas.read_excel.html)**\n",
    "```\n",
    "df = pd.read_excel('filepath/filename', sheet_name ='sheet name')\n",
    "\n",
    "```\n",
    "\n",
    "**[Loading a CSV file](https://pandas.pydata.org/pandas-docs/stable/reference/api/pandas.read_csv.html)**\n",
    "```\n",
    "df = pd.read_csv('filepath/filename')\n",
    "\n",
    "```\n",
    "\n",
    "**[Saving an Excel file](https://pandas.pydata.org/pandas-docs/stable/reference/api/pandas.DataFrame.to_excel.html)**\n",
    "```\n",
    "df.to_excel('filepath/filename')\n",
    "\n",
    "```\n",
    "\n",
    "**[Saving a CSV file](https://pandas.pydata.org/pandas-docs/stable/reference/api/pandas.DataFrame.to_csv.html#pandas.DataFrame.to_csv)**\n",
    "```\n",
    "df.to_csv('filepath/filename')\n",
    "\n",
    "```\n",
    "\n"
   ]
  },
  {
   "cell_type": "markdown",
   "metadata": {
    "slideshow": {
     "slide_type": "slide"
    }
   },
   "source": [
    "## Viewing and Inspecting Data\n",
    "\n",
    "**[First n rows](https://pandas.pydata.org/pandas-docs/stable/reference/api/pandas.DataFrame.head.html#pandas.DataFrame.head)**\n",
    "\n",
    "df.head(n)\n",
    "\n",
    "**[Last n rows](https://pandas.pydata.org/pandas-docs/stable/reference/api/pandas.DataFrame.tail.html#pandas.DataFrame.tail)** \n",
    "\n",
    "df.tail(n)\n",
    "\n",
    "**[Number of rows and columns](https://pandas.pydata.org/pandas-docs/stable/reference/api/pandas.DataFrame.shape.html#pandas.DataFrame.shape)** \n",
    "\n",
    "df.shape\n",
    "\n",
    "**[Index, datatype, memory info](https://pandas.pydata.org/pandas-docs/stable/reference/api/pandas.DataFrame.info.html)** \n",
    "\n",
    "df.info()\n"
   ]
  },
  {
   "cell_type": "markdown",
   "metadata": {},
   "source": [
    "## Example: Mauna Loa Monthly Average $CO_2$ dataset\n",
    "\n",
    "Download file here\n",
    "\n",
    "Source: [NOAA Earth System Research Laboratory Global Monitoring Division](https://www.esrl.noaa.gov/gmd/ccgg/trends/data.html)(downloaded 10/17/19)\n",
    "\n",
    "**Tasks**:\n",
    "- load csv \n",
    "- view first 5 rows \n",
    "- view last 5 rows\n"
   ]
  },
  {
   "cell_type": "code",
   "execution_count": 0,
   "metadata": {
    "colab": {},
    "colab_type": "code",
    "id": "bpgeDwm2HLYn",
    "slideshow": {
     "slide_type": "slide"
    }
   },
   "outputs": [],
   "source": [
    "CO2 = pd.read_csv(\"co2_mm_mlo.csv\")\n",
    "CO2.head(5)\n",
    "CO2.tail(5)"
   ]
  },
  {
   "cell_type": "markdown",
   "metadata": {},
   "source": [
    "## Indexing\n",
    "\n",
    "\n"
   ]
  },
  {
   "cell_type": "markdown",
   "metadata": {},
   "source": [
    "## Data Selection\n",
    "\n"
   ]
  },
  {
   "cell_type": "code",
   "execution_count": 0,
   "metadata": {
    "colab": {},
    "colab_type": "code",
    "id": "UtwFPneeszsw",
    "slideshow": {
     "slide_type": "slide"
    }
   },
   "outputs": [],
   "source": [
    "# Selection\n",
    "\n",
    "# select by column\n",
    "df[col]\n",
    "df[[col1, col2]]\n",
    "\n",
    "# select by position\n",
    "s.iloc[0]\n",
    "\n",
    "# select by index\n",
    "s.loc['index_one']\n",
    "\n",
    "# select by first element of first column\n",
    "df.iloc[0,0]"
   ]
  },
  {
   "cell_type": "code",
   "execution_count": 0,
   "metadata": {
    "colab": {},
    "colab_type": "code",
    "id": "yN8Xn7xzsCP-",
    "slideshow": {
     "slide_type": "slide"
    }
   },
   "outputs": [],
   "source": [
    "# Viewing and inspecting data\n",
    "\n",
    "# first n rows\n",
    "df.head(n)\n",
    "\n",
    "# last n rows\n",
    "df.tail(n)\n",
    "\n",
    "# number of rows and columns\n",
    "df.shape\n",
    "\n",
    "# index, datatype, memory info\n",
    "df.info()\n",
    "\n",
    "# view unique values and counts for a series\n",
    "s.value_counts(dropna = False)\n",
    "\n",
    "# basic summary stats\n",
    "df.describe()\n",
    "\n",
    "df.mean()\n",
    "df.corr() # correlation between columns\n",
    "df.count()\n",
    "df.max()\n",
    "df.min()\n",
    "df.median()\n",
    "df.std()"
   ]
  },
  {
   "cell_type": "code",
   "execution_count": 0,
   "metadata": {
    "colab": {
     "base_uri": "https://localhost:8080/",
     "height": 204
    },
    "colab_type": "code",
    "id": "HQmOdZaFMMfY",
    "outputId": "2bb29472-29e9-40b3-c6f3-0fdd66e62f17",
    "slideshow": {
     "slide_type": "skip"
    }
   },
   "outputs": [
    {
     "data": {
      "text/html": [
       "<div>\n",
       "<style scoped>\n",
       "    .dataframe tbody tr th:only-of-type {\n",
       "        vertical-align: middle;\n",
       "    }\n",
       "\n",
       "    .dataframe tbody tr th {\n",
       "        vertical-align: top;\n",
       "    }\n",
       "\n",
       "    .dataframe thead th {\n",
       "        text-align: right;\n",
       "    }\n",
       "</style>\n",
       "<table border=\"1\" class=\"dataframe\">\n",
       "  <thead>\n",
       "    <tr style=\"text-align: right;\">\n",
       "      <th></th>\n",
       "      <th>Year</th>\n",
       "      <th>Month</th>\n",
       "      <th>Date</th>\n",
       "      <th>CO2_avg</th>\n",
       "    </tr>\n",
       "  </thead>\n",
       "  <tbody>\n",
       "    <tr>\n",
       "      <th>0</th>\n",
       "      <td>1958</td>\n",
       "      <td>3</td>\n",
       "      <td>1958.208</td>\n",
       "      <td>315.71</td>\n",
       "    </tr>\n",
       "    <tr>\n",
       "      <th>1</th>\n",
       "      <td>1958</td>\n",
       "      <td>4</td>\n",
       "      <td>1958.292</td>\n",
       "      <td>317.45</td>\n",
       "    </tr>\n",
       "    <tr>\n",
       "      <th>2</th>\n",
       "      <td>1958</td>\n",
       "      <td>5</td>\n",
       "      <td>1958.375</td>\n",
       "      <td>317.50</td>\n",
       "    </tr>\n",
       "    <tr>\n",
       "      <th>3</th>\n",
       "      <td>1958</td>\n",
       "      <td>6</td>\n",
       "      <td>1958.458</td>\n",
       "      <td>-99.99</td>\n",
       "    </tr>\n",
       "    <tr>\n",
       "      <th>4</th>\n",
       "      <td>1958</td>\n",
       "      <td>7</td>\n",
       "      <td>1958.542</td>\n",
       "      <td>315.86</td>\n",
       "    </tr>\n",
       "  </tbody>\n",
       "</table>\n",
       "</div>"
      ],
      "text/plain": [
       "   Year  Month      Date  CO2_avg\n",
       "0  1958      3  1958.208   315.71\n",
       "1  1958      4  1958.292   317.45\n",
       "2  1958      5  1958.375   317.50\n",
       "3  1958      6  1958.458   -99.99\n",
       "4  1958      7  1958.542   315.86"
      ]
     },
     "execution_count": 31,
     "metadata": {
      "tags": []
     },
     "output_type": "execute_result"
    }
   ],
   "source": [
    "CO2.head(5)"
   ]
  },
  {
   "cell_type": "code",
   "execution_count": null,
   "metadata": {
    "slideshow": {
     "slide_type": "skip"
    }
   },
   "outputs": [],
   "source": [
    "CO2.tail(5)"
   ]
  },
  {
   "cell_type": "code",
   "execution_count": 0,
   "metadata": {
    "colab": {
     "base_uri": "https://localhost:8080/",
     "height": 235
    },
    "colab_type": "code",
    "id": "yrgbu4G9Mjjl",
    "outputId": "5a11d28f-da74-4d3b-bd06-ed032ada855d",
    "slideshow": {
     "slide_type": "slide"
    }
   },
   "outputs": [
    {
     "data": {
      "text/html": [
       "<div>\n",
       "<style scoped>\n",
       "    .dataframe tbody tr th:only-of-type {\n",
       "        vertical-align: middle;\n",
       "    }\n",
       "\n",
       "    .dataframe tbody tr th {\n",
       "        vertical-align: top;\n",
       "    }\n",
       "\n",
       "    .dataframe thead th {\n",
       "        text-align: right;\n",
       "    }\n",
       "</style>\n",
       "<table border=\"1\" class=\"dataframe\">\n",
       "  <thead>\n",
       "    <tr style=\"text-align: right;\">\n",
       "      <th></th>\n",
       "      <th>Year</th>\n",
       "      <th>Month</th>\n",
       "      <th>Date</th>\n",
       "      <th>CO2_avg</th>\n",
       "    </tr>\n",
       "    <tr>\n",
       "      <th>Date</th>\n",
       "      <th></th>\n",
       "      <th></th>\n",
       "      <th></th>\n",
       "      <th></th>\n",
       "    </tr>\n",
       "  </thead>\n",
       "  <tbody>\n",
       "    <tr>\n",
       "      <th>1958-03-01</th>\n",
       "      <td>1958</td>\n",
       "      <td>3</td>\n",
       "      <td>1958-03-01</td>\n",
       "      <td>315.71</td>\n",
       "    </tr>\n",
       "    <tr>\n",
       "      <th>1958-04-01</th>\n",
       "      <td>1958</td>\n",
       "      <td>4</td>\n",
       "      <td>1958-04-01</td>\n",
       "      <td>317.45</td>\n",
       "    </tr>\n",
       "    <tr>\n",
       "      <th>1958-05-01</th>\n",
       "      <td>1958</td>\n",
       "      <td>5</td>\n",
       "      <td>1958-05-01</td>\n",
       "      <td>317.50</td>\n",
       "    </tr>\n",
       "    <tr>\n",
       "      <th>1958-06-01</th>\n",
       "      <td>1958</td>\n",
       "      <td>6</td>\n",
       "      <td>1958-06-01</td>\n",
       "      <td>-99.99</td>\n",
       "    </tr>\n",
       "    <tr>\n",
       "      <th>1958-07-01</th>\n",
       "      <td>1958</td>\n",
       "      <td>7</td>\n",
       "      <td>1958-07-01</td>\n",
       "      <td>315.86</td>\n",
       "    </tr>\n",
       "  </tbody>\n",
       "</table>\n",
       "</div>"
      ],
      "text/plain": [
       "            Year  Month       Date  CO2_avg\n",
       "Date                                       \n",
       "1958-03-01  1958      3 1958-03-01   315.71\n",
       "1958-04-01  1958      4 1958-04-01   317.45\n",
       "1958-05-01  1958      5 1958-05-01   317.50\n",
       "1958-06-01  1958      6 1958-06-01   -99.99\n",
       "1958-07-01  1958      7 1958-07-01   315.86"
      ]
     },
     "execution_count": 11,
     "metadata": {
      "tags": []
     },
     "output_type": "execute_result"
    }
   ],
   "source": [
    "# create a new column and convert to datetime format\n",
    "CO2['Date'] = pd.to_datetime(CO2[['Year', 'Month']].assign(Day = 1))\n",
    "\n",
    "# indexing by time stamp\n",
    "CO2.set_index(data['Date'], inplace = True)\n",
    "\n",
    "CO2.head(5)"
   ]
  },
  {
   "cell_type": "code",
   "execution_count": 0,
   "metadata": {
    "colab": {},
    "colab_type": "code",
    "id": "-v1_V9jJtVS_",
    "slideshow": {
     "slide_type": "slide"
    }
   },
   "outputs": [],
   "source": [
    "# Filter, Sort, and Groupby\n",
    "\n",
    "# sort column values into ascending order\n",
    "df.sort_values(col1)\n",
    "\n",
    "# sort column values into descending order\n",
    "df.sort_values(col1, ascending = False)\n",
    "\n",
    "# filtering (only column values with year greater than 2016)\n",
    "df[df[year] > 2016]\n",
    "\n",
    "is_charter = sy1617['school_type'] == 'Charter'\n",
    "sy1617[is_charter]\n",
    "\n",
    "# groupby\n",
    "\n",
    "df.groupby(col)"
   ]
  },
  {
   "cell_type": "code",
   "execution_count": 0,
   "metadata": {
    "colab": {},
    "colab_type": "code",
    "id": "gbb2wu8_t_9B",
    "slideshow": {
     "slide_type": "slide"
    }
   },
   "outputs": [],
   "source": [
    "# Data Cleaning\n",
    "\n",
    "pd.isnull()\n",
    "df.dropna() # drop rows\n",
    "df.dropna(axis = 1) # drop columns\n",
    "\n",
    "df.fillna(x)\n",
    "\n",
    "# renaming columns\n",
    "\n",
    "df.rename (columns = {'old_name': 'new_name'})\n",
    "df.sex_index('column_one')"
   ]
  },
  {
   "cell_type": "code",
   "execution_count": 0,
   "metadata": {
    "colab": {},
    "colab_type": "code",
    "id": "gMbIgoSqueaZ",
    "slideshow": {
     "slide_type": "slide"
    }
   },
   "outputs": [],
   "source": [
    "# Join/Combine\n",
    "\n",
    "# add the rows in df1 to the end of df2 (must have identical columns)\n",
    "df1.append(df2)\n",
    "\n",
    "# add the columns in df1 to the end of df2 (must have identical rows)\n",
    "df.concat([df1, df2], axis = 1)\n",
    "\n",
    "\n"
   ]
  },
  {
   "cell_type": "code",
   "execution_count": 0,
   "metadata": {
    "colab": {},
    "colab_type": "code",
    "id": "bscmBX5GvR8I",
    "slideshow": {
     "slide_type": "slide"
    }
   },
   "outputs": [],
   "source": [
    "# emulating Pivot Tables\n",
    "\n",
    "\n",
    "pd.pivot_table(sy1617, values = 'School_Survey_Student_response_rate_pct', index = 'School_Type', columns = ['Primary_Catergory'], aggfunc = np.mean)"
   ]
  },
  {
   "cell_type": "code",
   "execution_count": 0,
   "metadata": {
    "colab": {},
    "colab_type": "code",
    "id": "pmDKumlUv6KY",
    "slideshow": {
     "slide_type": "slide"
    }
   },
   "outputs": [],
   "source": [
    "# emulating VLOOKUP\n",
    "\n",
    "#VLOOKUP searches for a specific value in a range of cells and then returns a value that lies int he same row as where the value is found\n",
    "\n",
    "# read in the csv for prior year's data\n",
    "sy1516 = pd.read_csv('Chicago_Public_Schools_-_School_Progress_Reports_SY1516.csv', index_col='School_ID')\n",
    "sy1617_short = sy1617[['Student_Attainment_Rating', 'Long_Name']]\n",
    "sy1516_short = sy1516[['Student_Attainment_Rating']]\n",
    "pd.merge(sy1516_short, sy1617_short, how='right', left_index=True, right_index=True, suffixes=('_1516','_1617'))\n",
    "\n",
    "sy1617_short.join(sy1516_short, how='left', lsuffix='_1617', rsuffix='_1516')"
   ]
  },
  {
   "cell_type": "code",
   "execution_count": 0,
   "metadata": {
    "colab": {},
    "colab_type": "code",
    "id": "EHNncW7FwTzR",
    "slideshow": {
     "slide_type": "slide"
    }
   },
   "outputs": [],
   "source": [
    "# basics\n",
    "\n",
    "# sums\n",
    "df['total'] = df['Jan'] + df['Feb'] + df['Mar']"
   ]
  },
  {
   "cell_type": "code",
   "execution_count": 0,
   "metadata": {
    "colab": {},
    "colab_type": "code",
    "id": "r1IGI77e0HHT",
    "slideshow": {
     "slide_type": "slide"
    }
   },
   "outputs": [],
   "source": [
    "# Time Series\n",
    "\n"
   ]
  },
  {
   "cell_type": "markdown",
   "metadata": {
    "colab_type": "text",
    "id": "eZRzYB1C3ix3",
    "slideshow": {
     "slide_type": "slide"
    }
   },
   "source": [
    "# 2. Manipulating time series in Pandas Part 1\n",
    "\n",
    "Now that we have an understanding of the basic concepts of a time series, how does one work with them? Building off of the Data Wrangling in Pandas module, we will be using the  `Pandas` Python package  to format and analyze time series in this module.\n",
    "\n",
    "Time series can be comprised of the following elements:\n",
    "\n",
    "*   *time stamps*: refer to a specific instant in time (example: January 2, 2018 at 4:04pm).\n",
    "\n",
    "*   *time intervals*: refer to a length of time between a specific start and stop point (example: the month of January 2018). A *period* refers to a specific instance of a time interval where intervals are of fixed length and do not overlap with one another (example: 60 minute periods that consist of hours).\n",
    "\n",
    "*   *time deltas/durations*: refer to a precise length of time (example: 1 hour 30 minutes and 33 seconds)\n",
    "\n",
    "\n",
    "Time series elements can be created in the Python package  `Pandas` used in conjunction with the `datetime` library. The `datetime` libary allows for the specification of time.\n",
    "\n",
    "### Time Stamps\n",
    "\n",
    "A **time stamp**  element in `Pandas` can be created using the following syntax:\n",
    "\n",
    "`pd.Timestamp()`\n",
    " \n",
    "\n",
    "The time stamp 'January 2, 2018' can be specified with `Pandas` in one of three ways:"
   ]
  },
  {
   "cell_type": "markdown",
   "metadata": {
    "colab_type": "text",
    "id": "I_uAGon03qhX",
    "slideshow": {
     "slide_type": "slide"
    }
   },
   "source": [
    " `1. pd.Timestamp(datetime(2018, 1, 2))`\n",
    "\n",
    "`2. pd.Timestamp('2018-01-02')`\n",
    "\n",
    "`3. pd.Timestamp(2018, 1, 2)`\n",
    "\n",
    "\n",
    "In each of the above examples, the year is specified first, the month second, and the day last. Let's try coding these and see if they give the same result:"
   ]
  },
  {
   "cell_type": "code",
   "execution_count": 0,
   "metadata": {
    "colab": {},
    "colab_type": "code",
    "id": "WyBVS9WO3tGt",
    "slideshow": {
     "slide_type": "slide"
    }
   },
   "outputs": [],
   "source": [
    "# time stamps in pandas\n",
    "# import libraries\n",
    "import pandas as pd\n",
    "from datetime import datetime\n",
    "\n",
    "# create a time stamp element in pandas\n",
    "timestamp1 = pd.Timestamp(datetime(2018, 1, 2))\n",
    "print(timestamp1)\n",
    "\n",
    "timestamp2 = pd.Timestamp('2018-01-02')\n",
    "print(timestamp2)\n",
    "\n",
    "timestamp3 = pd.Timestamp(2018, 1, 2)\n",
    "print(timestamp3)"
   ]
  },
  {
   "cell_type": "markdown",
   "metadata": {
    "colab_type": "text",
    "id": "dMvl7u0q32DY",
    "slideshow": {
     "slide_type": "slide"
    }
   },
   "source": [
    "Indeed, all three methods give the same result. What if you wanted to specify time, in addition to the date? \n",
    "\n",
    "This can be easily done using the same techniques as above, just with additional information about the hour, minute, and second. If need be, one can specify up to microseconds.\n",
    "\n",
    "The time stamp 'January 2, 2018 4:04:00 pm' can be specified with `Pandas` as follows:\n",
    "\n",
    "1.  `pd.Timestamp(datetime(2018, 1, 2, 16, 4, 0))`\n",
    "\n",
    "2.  `pd.Timestamp('2018-01-02 16:04:00')`\n",
    "\n",
    "3.   `pd.Timestamp(2018, 1, 2, 16, 4, 0)`\n",
    "\n",
    "\n",
    "Once again, let's try coding these to see if they give the same result:"
   ]
  },
  {
   "cell_type": "code",
   "execution_count": 0,
   "metadata": {
    "colab": {},
    "colab_type": "code",
    "id": "57ddK1JN32lD",
    "slideshow": {
     "slide_type": "slide"
    }
   },
   "outputs": [],
   "source": [
    "# time stamp elements in pandas (cont)\n",
    "timestamp4 = pd.Timestamp(datetime(2018, 1, 2, 16, 4, 0))\n",
    "print(timestamp4)\n",
    "\n",
    "timestamp5 = pd.Timestamp('2018-01-02 16:04:00')\n",
    "print(timestamp5)\n",
    "\n",
    "timestamp6 = pd.Timestamp(2018, 1, 2, 16, 4, 0)\n",
    "print(timestamp6)"
   ]
  },
  {
   "cell_type": "markdown",
   "metadata": {
    "colab_type": "text",
    "id": "5YbtHmSB4ALj",
    "slideshow": {
     "slide_type": "slide"
    }
   },
   "source": [
    "### Time Intervals\n",
    "\n",
    "A **time interval** element in `Pandas` can be created using the following syntax:\n",
    "\n",
    " `pd.Period()`\n",
    " \n",
    "\n",
    "\n",
    "The time interval 'January 2018' can be specified with pandas in one of two ways:\n",
    "\n",
    "1.   `pd.Period('2018-01')`\n",
    "\n",
    "2.   `pd.Period('2018-01', freq = 'M')```\n",
    "\n",
    "\n",
    "Where 'freq' refers to the frequency of the interval. The default in this case is month, or M, but one can pick a different frequency, such as D for day, as appropriate. Let's try coding these and see if they give the same result:"
   ]
  },
  {
   "cell_type": "code",
   "execution_count": 0,
   "metadata": {
    "colab": {},
    "colab_type": "code",
    "id": "XfHc3eSB1ybn",
    "slideshow": {
     "slide_type": "slide"
    }
   },
   "outputs": [],
   "source": [
    "# period elements in pandas\n",
    "\n",
    "period1 = pd.Period('2018-01')\n",
    "print(period1)\n",
    "\n",
    "period2 = pd.Period('2018-01', freq = 'M')\n",
    "print(period2)"
   ]
  },
  {
   "cell_type": "markdown",
   "metadata": {
    "colab_type": "text",
    "id": "Z6kRiIqJ4N_T",
    "slideshow": {
     "slide_type": "slide"
    }
   },
   "source": [
    "`Pandas` has the following aliases for the specified periods:\n",
    "\n",
    "<center><table>\n",
    "  <tr>\n",
    "    <td><b>Period</b></td>\n",
    "    <td><b>Frequency</b></td>\n",
    "  </tr>\n",
    "  <tr>\n",
    "    <td>hour</td>\n",
    "    <td>H</td>\n",
    "  </tr>\n",
    "  <tr>\n",
    "     <td>day</td>\n",
    "     <td>D</td>\n",
    "  </tr>\n",
    "  <tr>\n",
    "     <td>week</td>\n",
    "     <td>W</td>\n",
    "  </tr>\n",
    "  <tr>\n",
    "     <td>month</td>\n",
    "     <td>M</td>\n",
    "  </tr>\n",
    "  <tr>\n",
    "     <td>year</td>\n",
    "     <td>Y</td>\n",
    "  </tr>\n",
    "</table></center>\n",
    "\n",
    "The `datetime` module offers multiple classes that may be useful to you, depending on the dataset you are working on. The ones you may find more useful are summarized in the following table:\n",
    "\n",
    "<center><table style = \"width: '95%;\">\n",
    "  <tr>\n",
    "    <td><b>Class</b></td>\n",
    "    <td><b>Description</b></td>\n",
    "    <td><b>Attributes</b></td>\n",
    "  </tr>\n",
    "  <tr>\n",
    "    <td>`datetime.date`</td>\n",
    "    <td>specifies the date</td>\n",
    "    <td>`year`, `month`, `day`</td>\n",
    "   </tr>\n",
    "   <tr>\n",
    "    <td>`datetime.time`</td>\n",
    "    <td>specifies the time</td>\n",
    "    <td style=\"word-wrap: break-word;\">\n",
    "      `hour`, `minute`, `second`, `microsecond`, `tzinfo`\n",
    "     </td>\n",
    "   </tr>\n",
    "   <tr>\n",
    "    <td>`datetime.datetime`</td>\n",
    "    <td>specifies the date and time</td>\n",
    "    <td style=\"word-wrap: break-word;\">\n",
    "      `year`, `month`, `day`, `hour`, `minute`, `second`, `microsecond`, `tzinfo`\n",
    "     </td>\n",
    "   </tr>\n",
    "</table></center>"
   ]
  },
  {
   "cell_type": "markdown",
   "metadata": {
    "colab_type": "text",
    "id": "btCJHqHr4YT0",
    "slideshow": {
     "slide_type": "slide"
    }
   },
   "source": [
    "### Time Deltas\n",
    "\n",
    "A **time delta** element can be created in serveral ways, including:\n",
    "\n",
    "1. Specifying two `date`, `time`, or `datetime` elements and then using the `timedelta` class in the `datetime`  module to find the difference between the elements (i.e. the time delta).\n",
    "\n",
    "2. Finding the difference between two date, time, or `datetime` elements.\n",
    "\n",
    "A time delta element is specified with the following syntax, where time increments can be specified from microseconds to weeks:\n",
    "\n",
    "`datetime.timedelta(days, seconds, microseconds, milliseconds, minutes, hours, weeks)`\n",
    "\n",
    "Let's try using the `timedelta` function to shift today's date and time to yesterday."
   ]
  },
  {
   "cell_type": "code",
   "execution_count": 0,
   "metadata": {
    "colab": {},
    "colab_type": "code",
    "id": "hLi7cfKU4ZLS",
    "slideshow": {
     "slide_type": "slide"
    }
   },
   "outputs": [],
   "source": [
    "# shifting time with the timedelta function\n",
    "\n",
    "from datetime import timedelta\n",
    "from datetime import date\n",
    "\n",
    "yesterday = today - timedelta(days = 1)\n",
    "\n",
    "print(yesterday)"
   ]
  },
  {
   "cell_type": "code",
   "execution_count": 0,
   "metadata": {
    "colab": {},
    "colab_type": "code",
    "id": "MrtwE19V4e3G",
    "slideshow": {
     "slide_type": "slide"
    }
   },
   "outputs": [],
   "source": [
    "# time delta between two datetime objects using arithmetic\n",
    "\n",
    "t1 = pd.Timestamp(datetime(2018, 1, 2, 16, 4, 0))\n",
    "t2 = pd.Timestamp(datetime(2017, 2, 5, 14, 2, 5))\n",
    "\n",
    "timedelta = t1 - t2\n",
    "\n",
    "print(timedelta)"
   ]
  },
  {
   "cell_type": "code",
   "execution_count": 0,
   "metadata": {
    "colab": {},
    "colab_type": "code",
    "id": "eRVa3I3w4m3-",
    "slideshow": {
     "slide_type": "slide"
    }
   },
   "outputs": [],
   "source": [
    "# converting string data to datetime format\n",
    "\n",
    "datetime_conv = pd.to_datetime(pd.Series(['Jan 01, 2018', '2018-12-31']))\n",
    "print(datetime_conv)\n",
    "\n",
    "# importing a series object and converting to datetime format"
   ]
  },
  {
   "cell_type": "code",
   "execution_count": 0,
   "metadata": {
    "colab": {},
    "colab_type": "code",
    "id": "al8rxl1h4tmt",
    "slideshow": {
     "slide_type": "slide"
    }
   },
   "outputs": [],
   "source": []
  },
  {
   "cell_type": "markdown",
   "metadata": {
    "colab_type": "text",
    "id": "vDTu_DVV4uk4",
    "slideshow": {
     "slide_type": "slide"
    }
   },
   "source": [
    "## Indexing\n",
    "\n",
    "Previously we have used the default `Pandas` index with our time series objects. One of the neat functunalities of using `Pandas` for time series data, is that you can also index your data by time stamps. This is most easily done using the `DatetimeIndex` function.\n",
    "\n",
    "Let's create a `DateFrame` and use `DatetimeIndex` to create an index using time stamps.\n"
   ]
  },
  {
   "cell_type": "code",
   "execution_count": 0,
   "metadata": {
    "colab": {},
    "colab_type": "code",
    "id": "-UryXV2i4vli",
    "slideshow": {
     "slide_type": "slide"
    }
   },
   "outputs": [],
   "source": [
    "# indexing by time stamp\n",
    "\n",
    "index = pd.DatetimeIndex(['2018-01-01','2018-01-02','2018-01-03', '2018-01-04',\n",
    "                          '2018-01-05'])\n",
    "\n",
    "data = pd.DataFrame([1, 2, 3, 4, 5], index = index)\n",
    "data.columns = ['data']\n",
    "\n",
    "print(data)"
   ]
  },
  {
   "cell_type": "markdown",
   "metadata": {
    "colab_type": "text",
    "id": "ihvdPZDJ43ZY",
    "slideshow": {
     "slide_type": "slide"
    }
   },
   "source": [
    "Alternatively, you may have a dataset that is already created that you wish to import and index by time stamp. Let's try it out with a real dataset. The Mauna Loa monthly mean $CO_2$ dataset contains the monthly mean $CO_2$ mole fraction in parts per million (ppm) from March 1958 through today as measured from the top of Mauna Loa. You can download the most recently updated data from NOAA's website [here](ftp://aftp.cmdl.noaa.gov/products/trends/co2/co2_mm_mlo.txt). "
   ]
  },
  {
   "cell_type": "code",
   "execution_count": 0,
   "metadata": {
    "colab": {},
    "colab_type": "code",
    "id": "qg1rYYZ648FV"
   },
   "outputs": [],
   "source": [
    "# import Mauna Loa CO2 dataset \n",
    "CO2_raw = 'https://raw.githubusercontent.com/tamck/TS_Module/master/co2_mm_mlo_csv.csv?token=AJVABFER6YPXQX26LMBAVBK42XN7A'\n",
    "CO2_data = pd.read_csv(CO2_raw)\n",
    "\n",
    "CO2_data.head(5)"
   ]
  },
  {
   "cell_type": "markdown",
   "metadata": {
    "colab_type": "text",
    "id": "J5S235xS5Aso",
    "slideshow": {
     "slide_type": "slide"
    }
   },
   "source": [
    "Now that we've imported the Mauna Loa  CO2  dataset, we want to index by time stamp. To do this, we need to create a new column that combines the year and month and convert it to datetime format and then use set_index to index the time series by time stamp. The inplace = True parameter means that changes will occur in the original dataset."
   ]
  },
  {
   "cell_type": "code",
   "execution_count": 0,
   "metadata": {
    "colab": {},
    "colab_type": "code",
    "id": "78aq0MN55Gex",
    "slideshow": {
     "slide_type": "slide"
    }
   },
   "outputs": [],
   "source": [
    "# create a new column and convert to datetime format\n",
    "CO2_data['Date'] = pd.to_datetime(CO2_data[['year', 'month']].assign(Day = 1))\n",
    "\n",
    "# indexing by time stamp\n",
    "CO2_data.set_index(CO2_data['Date'], inplace = True)\n",
    "\n",
    "CO2_data.head(5)"
   ]
  },
  {
   "cell_type": "markdown",
   "metadata": {
    "colab_type": "text",
    "id": "2y-R3YYP5LUd",
    "slideshow": {
     "slide_type": "slide"
    }
   },
   "source": [
    "Now our time series data set is indexed by time, which will make it much easier to work with. We can also now delete the 'Date' column we created to make the time stamp index because we will not need to use it anymore. We can do this using the `drop` function and its parameter `axis` which can be set to $0$ for `index` or $1$ for `columns`. In this case, we want to remove the column 'Date', so we will set the `axis = 1`."
   ]
  },
  {
   "cell_type": "code",
   "execution_count": 0,
   "metadata": {
    "colab": {},
    "colab_type": "code",
    "id": "5yVQfVz25P3A"
   },
   "outputs": [],
   "source": [
    "CO2_data = CO2_data.drop('Date', axis = 1)\n",
    "\n",
    "CO2_data.head(5)"
   ]
  },
  {
   "cell_type": "markdown",
   "metadata": {
    "colab_type": "text",
    "id": "dkpVC1sN5y9C",
    "slideshow": {
     "slide_type": "slide"
    }
   },
   "source": [
    "# 9. Manipulating Time Series in Pandas Part 2\n",
    "\n",
    "## Resampling\n",
    "\n",
    "*Resampling* is the process of changing the frequency of your data. Oftentimes, data have either too low or too high of resolution. For instance, the raw dataset can have data that are sampled every second, but you only need data in hour intervals. Alternatively, you may have several time series sampled at different frequencies and you want to compare these to one another. In these cases, resampling is necessary. \n",
    "\n",
    "There are two kinds of resampling, *upsampling* and *downsampling*. Upsampling refers to the case where the frequency of data are increased, e.g. changing from months to days, whereas downsampling refers to the opposite case, where the frequency of data are decreased, such as changing from days to months.\n",
    "\n",
    "Additionally, resampling can be done using either *data aggregation* (where data are resampled by clustering, often using some statistical method, such as taking the mean, of the old frequency data by the new frequency) or *data selection* (where data are resampled just by the chosen frequency and does not factor in data that falls between) Resampling using `Pandas` can be done with the following methods:\n",
    "\n",
    "1. `resample()` : data aggregation technique.\n",
    "2. `asfreq()` : data selection technique.\n",
    "\n",
    "The `resample()` function allows for data to be sampled at a higher or lower frequency and can be modified using the `sum`, `mean`, `std`, `sem`, `median`, `max`, `min`, `first`,  or `last` parameters (see table below for a description of the modifiers).\n",
    " \n",
    "<table>\n",
    "  <tr>\n",
    "    <td>\n",
    "      <b>Modifier</b>\n",
    "    </td>\n",
    "    <td><b>Description</b></td>\n",
    "  </tr>\n",
    "  <tr>\n",
    "    <td>`sum`</td>\n",
    "    <td> downsamples the dataset by taking the sum of the data in intervals set by the new frequency </td>\n",
    "  </tr>\n",
    "    <tr>\n",
    "    <td>`mean`</td>\n",
    "    <td> downsamples the dataset by taking the mean of the data in intervals set by the new frequency </td>\n",
    "  </tr>\n",
    "    <tr>\n",
    "    <td>`std`</td>\n",
    "    <td> downsamples the dataset by taking the standard deviation of the data in intervals set by the new frequency </td>\n",
    "  </tr>\n",
    "    <tr>\n",
    "    <td>`sem`</td>\n",
    "    <td> downsamples the dataset by taking the standard mean error of the data in intervals set by the new frequency </td>\n",
    "  </tr>\n",
    "    <tr>\n",
    "    <td>`median`</td>\n",
    "    <td> downsamples the dataset by taking the median of the data in intervals set by the new frequency </td>\n",
    "  </tr>\n",
    "    <tr>\n",
    "    <td>`max`</td>\n",
    "    <td> downsamples the dataset by taking the maximum value of the data in intervals set by the new frequency </td>\n",
    "  </tr>\n",
    "    <tr>\n",
    "    <td>`min`</td>\n",
    "    <td> downsamples the dataset by taking the minimum value of the data in intervals set by the new frequency </td>\n",
    "  </tr>\n",
    "    <tr>\n",
    "    <td>`first`</td>\n",
    "    <td> downsamples the dataset by taking the first data value in intervals set by the new frequency </td>\n",
    "  </tr>\n",
    "      <tr>\n",
    "    <td>`last`</td>\n",
    "    <td> downsamples the dataset by taking the last data value in intervals set by the new frequency </td>\n",
    "  </tr>\n",
    "  </table>\n",
    "\n",
    "\n",
    "**Downsampling** is more straightforward than upsampling. Let's load a [Google Trends](https://trends.google.com/trends/) dataset that shows the monthly popularity of the search term \"surfing\" from January 2004 - January 2019 and see how different modifiers change when we downsample from month to year frequency."
   ]
  },
  {
   "cell_type": "code",
   "execution_count": 0,
   "metadata": {
    "colab": {},
    "colab_type": "code",
    "id": "7FCnzINa5z51",
    "slideshow": {
     "slide_type": "slide"
    }
   },
   "outputs": [],
   "source": [
    "# code for example above\n",
    "import pandas as pd\n",
    "from pandas import datetime\n",
    "from matplotlib import pyplot as plt\n",
    "\n",
    "# import dataset \n",
    "data = 'https://raw.githubusercontent.com/tamck/TS_Module/master/googletrends_surf.csv?token=AmoAlDgpfOVBZ53hVSSDh1Yoqpf9ksbdks5chvwQwA%3D%3D'\n",
    "surf = pd.read_csv(data)\n",
    "\n",
    "# set index \n",
    "surf['Month'] = pd.to_datetime(surf['Month'], format = '%Y-%m')\n",
    "surf = surf.set_index(pd.DatetimeIndex(surf['Month']))\n",
    "surf = surf.drop('Month', axis = 1)\n",
    "\n",
    "#print(surf)\n",
    "\n",
    "# plot original dataset\n",
    "plt.plot(surf, label = 'Original Data', color = 'dimgray')\n",
    "\n",
    "# resample by different methods and plot (make plot prettier)\n",
    "surf_resample_mean = surf.resample('Y').mean()\n",
    "plt.plot(surf_resample_mean, label = 'Resample, mean', color = 'darkblue')\n",
    "\n",
    "surf_resample_median = surf.resample('Y').median()\n",
    "plt.plot(surf_resample_median, label = 'Resample, median', color = 'gold')\n",
    "\n",
    "surf_resample_min = surf.resample('Y').min()\n",
    "plt.plot(surf_resample_min, label = 'Resample, min', color = 'firebrick')\n",
    "\n",
    "surf_resample_max = surf.resample('Y').max()\n",
    "plt.plot(surf_resample_max, label = 'Resample, max', color = 'limegreen')\n",
    "\n",
    "surf_resample_std = surf.resample('Y').std()\n",
    "plt.plot(surf_resample_std, label = 'Resample, std', color = 'darkgreen')\n",
    "\n",
    "plt.legend()"
   ]
  },
  {
   "cell_type": "markdown",
   "metadata": {
    "colab_type": "text",
    "id": "4XLoY4oh54dx",
    "slideshow": {
     "slide_type": "slide"
    }
   },
   "source": [
    "What can we observe from the above dataset and downsampling methods? First, the overall trend is declining, and there appears to be a seasonal component. Because of the seasonal component, the resampled annual mean and median closely resemble one another. Similarly, because of the seasonal component and because we downsampled from monthly to annual frequency, using the standard deviation to resample strongly deviates from the dataset itself.\n",
    "\n",
    "**Upsampling** is achieved by resampling followed up by interpolation. *Interpolation* in the context of time series refers to the process of predicting  values at times that were not actually sampled. Upsampling can be done by first using the `resample()` function and then using the `interpolate()` function to fill in the values. \n",
    "\n",
    "The `resample()` function in this case is used to create additional rows to match the new frequency. \n",
    "\n",
    "The `interpolate()` function by default performs a linear interpolation. A linear interpolation draws a straight line from the beginning to end of the defined frequency and fills in data based on this relationship. Depending on your domain or specific dataset, it may be more appropriate to use a different interpolation method, such as a polynomial or cubic. For more information about different parameters that can be used to modify the `interpolate()` function in `Pandas`, see the  [documentation](https://pandas.pydata.org/pandas-docs/stable/reference/api/pandas.Series.interpolate.html).\n",
    "\n",
    "Let's now return to the Google Trends 'surfing' dataset, and upsample the frequency from months to days.\n"
   ]
  },
  {
   "cell_type": "code",
   "execution_count": 0,
   "metadata": {
    "colab": {},
    "colab_type": "code",
    "id": "V2Xs9Zg36E0E",
    "slideshow": {
     "slide_type": "slide"
    }
   },
   "outputs": [],
   "source": [
    "# code for upsampling using the resample function and interpolation\n",
    "\n",
    "# resample data from months to days\n",
    "surf_upsample = surf.resample('D')\n",
    "\n",
    "# print first month of resampled values\n",
    "print(surf_upsample.head(31))\n",
    "\n",
    "# interpolate missing data at day frequency\n",
    "surf_interp = surf_upsample.interpolate(method = 'linear')\n",
    "\n",
    "# print first 2 months of upsampled values\n",
    "print(surf_interp.head(60))"
   ]
  },
  {
   "cell_type": "markdown",
   "metadata": {
    "colab_type": "text",
    "id": "YxhRbhZ_6KBh",
    "slideshow": {
     "slide_type": "slide"
    }
   },
   "source": [
    "Occasionally, a data selection technique is sufficient for resampling and can be done using the `asfreq()` function. The `asfreq()` function converts a time series to a new frequency and has two commonly used parameters: `freq` and `method` (for more information about other parameter options, see the documentation [here](https://pandas.pydata.org/pandas-docs/stable/reference/api/pandas.DataFrame.asfreq.html)).\n",
    "\n",
    "The `freq` parameter specifies the new frequency desired, for instance:\n",
    "\n",
    "`DataFrame.asfreq(freq = 'M')`  selects data in monthly increments.\n",
    "\n",
    "The `method` parameter specifies how missing values are treated in the newly sampled dataset. Method options include `bfill` and `ffill` for backward and forward fill, respectively. Backward fill means that missing data will have the same value as the value that occurs at the next time index. Similarly, forward fill means that missing data will take on the value that occurs at the previous time index.\n",
    "\n",
    "The following code demonstrates how to use `asfreq()` to resample data."
   ]
  },
  {
   "cell_type": "code",
   "execution_count": 0,
   "metadata": {
    "colab": {},
    "colab_type": "code",
    "id": "_KJL8dar6O0N",
    "slideshow": {
     "slide_type": "slide"
    }
   },
   "outputs": [],
   "source": [
    "# code for asfreq\n",
    "import pandas as pd\n",
    "from pandas import datetime\n",
    "from matplotlib import pyplot as plt\n",
    "\n",
    "# plot original dataset\n",
    "plt.plot(surf, label = 'Original Data', color = 'dimgray')\n",
    "\n",
    "# asfreq bfill\n",
    "surf_asfreq_bfill = surf.asfreq(freq = 'Y', method='bfill')\n",
    "plt.plot(surf_asfreq_bfill, label = 'asfreq, bfill', color = 'darkblue')\n",
    "\n",
    "# asfreq ffill\n",
    "surf_asfreq_ffill = surf.asfreq(freq = 'Y', method='ffill')\n",
    "plt.plot(surf_asfreq_ffill, label = 'asfreq, bfill', color = 'green')\n",
    "\n",
    "plt.legend()"
   ]
  }
 ],
 "metadata": {
  "celltoolbar": "Slideshow",
  "colab": {
   "collapsed_sections": [],
   "name": "EARTH_PandasTech.ipynb",
   "provenance": [],
   "toc_visible": true
  },
  "kernelspec": {
   "display_name": "Python 3",
   "language": "python",
   "name": "python3"
  },
  "language_info": {
   "codemirror_mode": {
    "name": "ipython",
    "version": 3
   },
   "file_extension": ".py",
   "mimetype": "text/x-python",
   "name": "python",
   "nbconvert_exporter": "python",
   "pygments_lexer": "ipython3",
   "version": "3.6.8"
  }
 },
 "nbformat": 4,
 "nbformat_minor": 1
}
